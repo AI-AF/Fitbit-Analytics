{
 "cells": [
  {
   "cell_type": "code",
   "execution_count": 1,
   "metadata": {},
   "outputs": [],
   "source": [
    "%load_ext autoreload\n",
    "%autoreload 2"
   ]
  },
  {
   "cell_type": "code",
   "execution_count": 2,
   "metadata": {},
   "outputs": [],
   "source": [
    "import sys\n",
    "sys.path.append('../src/')\n",
    "import plotutils"
   ]
  },
  {
   "cell_type": "code",
   "execution_count": 3,
   "metadata": {},
   "outputs": [
    {
     "data": {
      "text/html": [
       "\n",
       "    <div class=\"bk-root\">\n",
       "        <a href=\"https://bokeh.pydata.org\" target=\"_blank\" class=\"bk-logo bk-logo-small bk-logo-notebook\"></a>\n",
       "        <span id=\"f66dc9a0-a91b-4560-908c-054cd4436c6d\">Loading BokehJS ...</span>\n",
       "    </div>"
      ]
     },
     "metadata": {},
     "output_type": "display_data"
    },
    {
     "data": {
      "application/javascript": [
       "\n",
       "(function(root) {\n",
       "  function now() {\n",
       "    return new Date();\n",
       "  }\n",
       "\n",
       "  var force = true;\n",
       "\n",
       "  if (typeof (root._bokeh_onload_callbacks) === \"undefined\" || force === true) {\n",
       "    root._bokeh_onload_callbacks = [];\n",
       "    root._bokeh_is_loading = undefined;\n",
       "  }\n",
       "\n",
       "  var JS_MIME_TYPE = 'application/javascript';\n",
       "  var HTML_MIME_TYPE = 'text/html';\n",
       "  var EXEC_MIME_TYPE = 'application/vnd.bokehjs_exec.v0+json';\n",
       "  var CLASS_NAME = 'output_bokeh rendered_html';\n",
       "\n",
       "  /**\n",
       "   * Render data to the DOM node\n",
       "   */\n",
       "  function render(props, node) {\n",
       "    var script = document.createElement(\"script\");\n",
       "    node.appendChild(script);\n",
       "  }\n",
       "\n",
       "  /**\n",
       "   * Handle when an output is cleared or removed\n",
       "   */\n",
       "  function handleClearOutput(event, handle) {\n",
       "    var cell = handle.cell;\n",
       "\n",
       "    var id = cell.output_area._bokeh_element_id;\n",
       "    var server_id = cell.output_area._bokeh_server_id;\n",
       "    // Clean up Bokeh references\n",
       "    if (id !== undefined) {\n",
       "      Bokeh.index[id].model.document.clear();\n",
       "      delete Bokeh.index[id];\n",
       "    }\n",
       "\n",
       "    if (server_id !== undefined) {\n",
       "      // Clean up Bokeh references\n",
       "      var cmd = \"from bokeh.io.state import curstate; print(curstate().uuid_to_server['\" + server_id + \"'].get_sessions()[0].document.roots[0]._id)\";\n",
       "      cell.notebook.kernel.execute(cmd, {\n",
       "        iopub: {\n",
       "          output: function(msg) {\n",
       "            var element_id = msg.content.text.trim();\n",
       "            Bokeh.index[element_id].model.document.clear();\n",
       "            delete Bokeh.index[element_id];\n",
       "          }\n",
       "        }\n",
       "      });\n",
       "      // Destroy server and session\n",
       "      var cmd = \"import bokeh.io.notebook as ion; ion.destroy_server('\" + server_id + \"')\";\n",
       "      cell.notebook.kernel.execute(cmd);\n",
       "    }\n",
       "  }\n",
       "\n",
       "  /**\n",
       "   * Handle when a new output is added\n",
       "   */\n",
       "  function handleAddOutput(event, handle) {\n",
       "    var output_area = handle.output_area;\n",
       "    var output = handle.output;\n",
       "\n",
       "    // limit handleAddOutput to display_data with EXEC_MIME_TYPE content only\n",
       "    if ((output.output_type != \"display_data\") || (!output.data.hasOwnProperty(EXEC_MIME_TYPE))) {\n",
       "      return\n",
       "    }\n",
       "\n",
       "    var toinsert = output_area.element.find(\".\" + CLASS_NAME.split(' ')[0]);\n",
       "\n",
       "    if (output.metadata[EXEC_MIME_TYPE][\"id\"] !== undefined) {\n",
       "      toinsert[toinsert.length - 1].firstChild.textContent = output.data[JS_MIME_TYPE];\n",
       "      // store reference to embed id on output_area\n",
       "      output_area._bokeh_element_id = output.metadata[EXEC_MIME_TYPE][\"id\"];\n",
       "    }\n",
       "    if (output.metadata[EXEC_MIME_TYPE][\"server_id\"] !== undefined) {\n",
       "      var bk_div = document.createElement(\"div\");\n",
       "      bk_div.innerHTML = output.data[HTML_MIME_TYPE];\n",
       "      var script_attrs = bk_div.children[0].attributes;\n",
       "      for (var i = 0; i < script_attrs.length; i++) {\n",
       "        toinsert[toinsert.length - 1].firstChild.setAttribute(script_attrs[i].name, script_attrs[i].value);\n",
       "      }\n",
       "      // store reference to server id on output_area\n",
       "      output_area._bokeh_server_id = output.metadata[EXEC_MIME_TYPE][\"server_id\"];\n",
       "    }\n",
       "  }\n",
       "\n",
       "  function register_renderer(events, OutputArea) {\n",
       "\n",
       "    function append_mime(data, metadata, element) {\n",
       "      // create a DOM node to render to\n",
       "      var toinsert = this.create_output_subarea(\n",
       "        metadata,\n",
       "        CLASS_NAME,\n",
       "        EXEC_MIME_TYPE\n",
       "      );\n",
       "      this.keyboard_manager.register_events(toinsert);\n",
       "      // Render to node\n",
       "      var props = {data: data, metadata: metadata[EXEC_MIME_TYPE]};\n",
       "      render(props, toinsert[toinsert.length - 1]);\n",
       "      element.append(toinsert);\n",
       "      return toinsert\n",
       "    }\n",
       "\n",
       "    /* Handle when an output is cleared or removed */\n",
       "    events.on('clear_output.CodeCell', handleClearOutput);\n",
       "    events.on('delete.Cell', handleClearOutput);\n",
       "\n",
       "    /* Handle when a new output is added */\n",
       "    events.on('output_added.OutputArea', handleAddOutput);\n",
       "\n",
       "    /**\n",
       "     * Register the mime type and append_mime function with output_area\n",
       "     */\n",
       "    OutputArea.prototype.register_mime_type(EXEC_MIME_TYPE, append_mime, {\n",
       "      /* Is output safe? */\n",
       "      safe: true,\n",
       "      /* Index of renderer in `output_area.display_order` */\n",
       "      index: 0\n",
       "    });\n",
       "  }\n",
       "\n",
       "  // register the mime type if in Jupyter Notebook environment and previously unregistered\n",
       "  if (root.Jupyter !== undefined) {\n",
       "    var events = require('base/js/events');\n",
       "    var OutputArea = require('notebook/js/outputarea').OutputArea;\n",
       "\n",
       "    if (OutputArea.prototype.mime_types().indexOf(EXEC_MIME_TYPE) == -1) {\n",
       "      register_renderer(events, OutputArea);\n",
       "    }\n",
       "  }\n",
       "\n",
       "  \n",
       "  if (typeof (root._bokeh_timeout) === \"undefined\" || force === true) {\n",
       "    root._bokeh_timeout = Date.now() + 5000;\n",
       "    root._bokeh_failed_load = false;\n",
       "  }\n",
       "\n",
       "  var NB_LOAD_WARNING = {'data': {'text/html':\n",
       "     \"<div style='background-color: #fdd'>\\n\"+\n",
       "     \"<p>\\n\"+\n",
       "     \"BokehJS does not appear to have successfully loaded. If loading BokehJS from CDN, this \\n\"+\n",
       "     \"may be due to a slow or bad network connection. Possible fixes:\\n\"+\n",
       "     \"</p>\\n\"+\n",
       "     \"<ul>\\n\"+\n",
       "     \"<li>re-rerun `output_notebook()` to attempt to load from CDN again, or</li>\\n\"+\n",
       "     \"<li>use INLINE resources instead, as so:</li>\\n\"+\n",
       "     \"</ul>\\n\"+\n",
       "     \"<code>\\n\"+\n",
       "     \"from bokeh.resources import INLINE\\n\"+\n",
       "     \"output_notebook(resources=INLINE)\\n\"+\n",
       "     \"</code>\\n\"+\n",
       "     \"</div>\"}};\n",
       "\n",
       "  function display_loaded() {\n",
       "    var el = document.getElementById(\"f66dc9a0-a91b-4560-908c-054cd4436c6d\");\n",
       "    if (el != null) {\n",
       "      el.textContent = \"BokehJS is loading...\";\n",
       "    }\n",
       "    if (root.Bokeh !== undefined) {\n",
       "      if (el != null) {\n",
       "        el.textContent = \"BokehJS \" + root.Bokeh.version + \" successfully loaded.\";\n",
       "      }\n",
       "    } else if (Date.now() < root._bokeh_timeout) {\n",
       "      setTimeout(display_loaded, 100)\n",
       "    }\n",
       "  }\n",
       "\n",
       "\n",
       "  function run_callbacks() {\n",
       "    try {\n",
       "      root._bokeh_onload_callbacks.forEach(function(callback) { callback() });\n",
       "    }\n",
       "    finally {\n",
       "      delete root._bokeh_onload_callbacks\n",
       "    }\n",
       "    console.info(\"Bokeh: all callbacks have finished\");\n",
       "  }\n",
       "\n",
       "  function load_libs(js_urls, callback) {\n",
       "    root._bokeh_onload_callbacks.push(callback);\n",
       "    if (root._bokeh_is_loading > 0) {\n",
       "      console.log(\"Bokeh: BokehJS is being loaded, scheduling callback at\", now());\n",
       "      return null;\n",
       "    }\n",
       "    if (js_urls == null || js_urls.length === 0) {\n",
       "      run_callbacks();\n",
       "      return null;\n",
       "    }\n",
       "    console.log(\"Bokeh: BokehJS not loaded, scheduling load and callback at\", now());\n",
       "    root._bokeh_is_loading = js_urls.length;\n",
       "    for (var i = 0; i < js_urls.length; i++) {\n",
       "      var url = js_urls[i];\n",
       "      var s = document.createElement('script');\n",
       "      s.src = url;\n",
       "      s.async = false;\n",
       "      s.onreadystatechange = s.onload = function() {\n",
       "        root._bokeh_is_loading--;\n",
       "        if (root._bokeh_is_loading === 0) {\n",
       "          console.log(\"Bokeh: all BokehJS libraries loaded\");\n",
       "          run_callbacks()\n",
       "        }\n",
       "      };\n",
       "      s.onerror = function() {\n",
       "        console.warn(\"failed to load library \" + url);\n",
       "      };\n",
       "      console.log(\"Bokeh: injecting script tag for BokehJS library: \", url);\n",
       "      document.getElementsByTagName(\"head\")[0].appendChild(s);\n",
       "    }\n",
       "  };var element = document.getElementById(\"f66dc9a0-a91b-4560-908c-054cd4436c6d\");\n",
       "  if (element == null) {\n",
       "    console.log(\"Bokeh: ERROR: autoload.js configured with elementid 'f66dc9a0-a91b-4560-908c-054cd4436c6d' but no matching script tag was found. \")\n",
       "    return false;\n",
       "  }\n",
       "\n",
       "  var js_urls = [\"https://cdn.pydata.org/bokeh/release/bokeh-0.12.16.min.js\", \"https://cdn.pydata.org/bokeh/release/bokeh-widgets-0.12.16.min.js\", \"https://cdn.pydata.org/bokeh/release/bokeh-tables-0.12.16.min.js\", \"https://cdn.pydata.org/bokeh/release/bokeh-gl-0.12.16.min.js\"];\n",
       "\n",
       "  var inline_js = [\n",
       "    function(Bokeh) {\n",
       "      Bokeh.set_log_level(\"info\");\n",
       "    },\n",
       "    \n",
       "    function(Bokeh) {\n",
       "      \n",
       "    },\n",
       "    function(Bokeh) {\n",
       "      console.log(\"Bokeh: injecting CSS: https://cdn.pydata.org/bokeh/release/bokeh-0.12.16.min.css\");\n",
       "      Bokeh.embed.inject_css(\"https://cdn.pydata.org/bokeh/release/bokeh-0.12.16.min.css\");\n",
       "      console.log(\"Bokeh: injecting CSS: https://cdn.pydata.org/bokeh/release/bokeh-widgets-0.12.16.min.css\");\n",
       "      Bokeh.embed.inject_css(\"https://cdn.pydata.org/bokeh/release/bokeh-widgets-0.12.16.min.css\");\n",
       "      console.log(\"Bokeh: injecting CSS: https://cdn.pydata.org/bokeh/release/bokeh-tables-0.12.16.min.css\");\n",
       "      Bokeh.embed.inject_css(\"https://cdn.pydata.org/bokeh/release/bokeh-tables-0.12.16.min.css\");\n",
       "    }\n",
       "  ];\n",
       "\n",
       "  function run_inline_js() {\n",
       "    \n",
       "    if ((root.Bokeh !== undefined) || (force === true)) {\n",
       "      for (var i = 0; i < inline_js.length; i++) {\n",
       "        inline_js[i].call(root, root.Bokeh);\n",
       "      }if (force === true) {\n",
       "        display_loaded();\n",
       "      }} else if (Date.now() < root._bokeh_timeout) {\n",
       "      setTimeout(run_inline_js, 100);\n",
       "    } else if (!root._bokeh_failed_load) {\n",
       "      console.log(\"Bokeh: BokehJS failed to load within specified timeout.\");\n",
       "      root._bokeh_failed_load = true;\n",
       "    } else if (force !== true) {\n",
       "      var cell = $(document.getElementById(\"f66dc9a0-a91b-4560-908c-054cd4436c6d\")).parents('.cell').data().cell;\n",
       "      cell.output_area.append_execute_result(NB_LOAD_WARNING)\n",
       "    }\n",
       "\n",
       "  }\n",
       "\n",
       "  if (root._bokeh_is_loading === 0) {\n",
       "    console.log(\"Bokeh: BokehJS loaded, going straight to plotting\");\n",
       "    run_inline_js();\n",
       "  } else {\n",
       "    load_libs(js_urls, function() {\n",
       "      console.log(\"Bokeh: BokehJS plotting callback run at\", now());\n",
       "      run_inline_js();\n",
       "    });\n",
       "  }\n",
       "}(window));"
      ],
      "application/vnd.bokehjs_load.v0+json": "\n(function(root) {\n  function now() {\n    return new Date();\n  }\n\n  var force = true;\n\n  if (typeof (root._bokeh_onload_callbacks) === \"undefined\" || force === true) {\n    root._bokeh_onload_callbacks = [];\n    root._bokeh_is_loading = undefined;\n  }\n\n  \n\n  \n  if (typeof (root._bokeh_timeout) === \"undefined\" || force === true) {\n    root._bokeh_timeout = Date.now() + 5000;\n    root._bokeh_failed_load = false;\n  }\n\n  var NB_LOAD_WARNING = {'data': {'text/html':\n     \"<div style='background-color: #fdd'>\\n\"+\n     \"<p>\\n\"+\n     \"BokehJS does not appear to have successfully loaded. If loading BokehJS from CDN, this \\n\"+\n     \"may be due to a slow or bad network connection. Possible fixes:\\n\"+\n     \"</p>\\n\"+\n     \"<ul>\\n\"+\n     \"<li>re-rerun `output_notebook()` to attempt to load from CDN again, or</li>\\n\"+\n     \"<li>use INLINE resources instead, as so:</li>\\n\"+\n     \"</ul>\\n\"+\n     \"<code>\\n\"+\n     \"from bokeh.resources import INLINE\\n\"+\n     \"output_notebook(resources=INLINE)\\n\"+\n     \"</code>\\n\"+\n     \"</div>\"}};\n\n  function display_loaded() {\n    var el = document.getElementById(\"f66dc9a0-a91b-4560-908c-054cd4436c6d\");\n    if (el != null) {\n      el.textContent = \"BokehJS is loading...\";\n    }\n    if (root.Bokeh !== undefined) {\n      if (el != null) {\n        el.textContent = \"BokehJS \" + root.Bokeh.version + \" successfully loaded.\";\n      }\n    } else if (Date.now() < root._bokeh_timeout) {\n      setTimeout(display_loaded, 100)\n    }\n  }\n\n\n  function run_callbacks() {\n    try {\n      root._bokeh_onload_callbacks.forEach(function(callback) { callback() });\n    }\n    finally {\n      delete root._bokeh_onload_callbacks\n    }\n    console.info(\"Bokeh: all callbacks have finished\");\n  }\n\n  function load_libs(js_urls, callback) {\n    root._bokeh_onload_callbacks.push(callback);\n    if (root._bokeh_is_loading > 0) {\n      console.log(\"Bokeh: BokehJS is being loaded, scheduling callback at\", now());\n      return null;\n    }\n    if (js_urls == null || js_urls.length === 0) {\n      run_callbacks();\n      return null;\n    }\n    console.log(\"Bokeh: BokehJS not loaded, scheduling load and callback at\", now());\n    root._bokeh_is_loading = js_urls.length;\n    for (var i = 0; i < js_urls.length; i++) {\n      var url = js_urls[i];\n      var s = document.createElement('script');\n      s.src = url;\n      s.async = false;\n      s.onreadystatechange = s.onload = function() {\n        root._bokeh_is_loading--;\n        if (root._bokeh_is_loading === 0) {\n          console.log(\"Bokeh: all BokehJS libraries loaded\");\n          run_callbacks()\n        }\n      };\n      s.onerror = function() {\n        console.warn(\"failed to load library \" + url);\n      };\n      console.log(\"Bokeh: injecting script tag for BokehJS library: \", url);\n      document.getElementsByTagName(\"head\")[0].appendChild(s);\n    }\n  };var element = document.getElementById(\"f66dc9a0-a91b-4560-908c-054cd4436c6d\");\n  if (element == null) {\n    console.log(\"Bokeh: ERROR: autoload.js configured with elementid 'f66dc9a0-a91b-4560-908c-054cd4436c6d' but no matching script tag was found. \")\n    return false;\n  }\n\n  var js_urls = [\"https://cdn.pydata.org/bokeh/release/bokeh-0.12.16.min.js\", \"https://cdn.pydata.org/bokeh/release/bokeh-widgets-0.12.16.min.js\", \"https://cdn.pydata.org/bokeh/release/bokeh-tables-0.12.16.min.js\", \"https://cdn.pydata.org/bokeh/release/bokeh-gl-0.12.16.min.js\"];\n\n  var inline_js = [\n    function(Bokeh) {\n      Bokeh.set_log_level(\"info\");\n    },\n    \n    function(Bokeh) {\n      \n    },\n    function(Bokeh) {\n      console.log(\"Bokeh: injecting CSS: https://cdn.pydata.org/bokeh/release/bokeh-0.12.16.min.css\");\n      Bokeh.embed.inject_css(\"https://cdn.pydata.org/bokeh/release/bokeh-0.12.16.min.css\");\n      console.log(\"Bokeh: injecting CSS: https://cdn.pydata.org/bokeh/release/bokeh-widgets-0.12.16.min.css\");\n      Bokeh.embed.inject_css(\"https://cdn.pydata.org/bokeh/release/bokeh-widgets-0.12.16.min.css\");\n      console.log(\"Bokeh: injecting CSS: https://cdn.pydata.org/bokeh/release/bokeh-tables-0.12.16.min.css\");\n      Bokeh.embed.inject_css(\"https://cdn.pydata.org/bokeh/release/bokeh-tables-0.12.16.min.css\");\n    }\n  ];\n\n  function run_inline_js() {\n    \n    if ((root.Bokeh !== undefined) || (force === true)) {\n      for (var i = 0; i < inline_js.length; i++) {\n        inline_js[i].call(root, root.Bokeh);\n      }if (force === true) {\n        display_loaded();\n      }} else if (Date.now() < root._bokeh_timeout) {\n      setTimeout(run_inline_js, 100);\n    } else if (!root._bokeh_failed_load) {\n      console.log(\"Bokeh: BokehJS failed to load within specified timeout.\");\n      root._bokeh_failed_load = true;\n    } else if (force !== true) {\n      var cell = $(document.getElementById(\"f66dc9a0-a91b-4560-908c-054cd4436c6d\")).parents('.cell').data().cell;\n      cell.output_area.append_execute_result(NB_LOAD_WARNING)\n    }\n\n  }\n\n  if (root._bokeh_is_loading === 0) {\n    console.log(\"Bokeh: BokehJS loaded, going straight to plotting\");\n    run_inline_js();\n  } else {\n    load_libs(js_urls, function() {\n      console.log(\"Bokeh: BokehJS plotting callback run at\", now());\n      run_inline_js();\n    });\n  }\n}(window));"
     },
     "metadata": {},
     "output_type": "display_data"
    }
   ],
   "source": [
    "import fitbit\n",
    "import os\n",
    "import getpass\n",
    "import numpy as np\n",
    "import datetime\n",
    "\n",
    "from bokeh.io import output_notebook\n",
    "output_notebook()"
   ]
  },
  {
   "cell_type": "code",
   "execution_count": 5,
   "metadata": {},
   "outputs": [
    {
     "name": "stdout",
     "output_type": "stream",
     "text": [
      "Enter Client ID:········\n",
      "Enter Client Secret:········\n"
     ]
    }
   ],
   "source": [
    "os.environ['client_id'] = getpass.getpass('Enter Client ID:')\n",
    "os.environ['client_secret'] = getpass.getpass('Enter Client Secret:')"
   ]
  },
  {
   "cell_type": "code",
   "execution_count": 14,
   "metadata": {},
   "outputs": [
    {
     "name": "stdout",
     "output_type": "stream",
     "text": [
      "[29/Oct/2019:18:58:24] ENGINE Listening for SIGTERM.\n",
      "[29/Oct/2019:18:58:24] ENGINE Listening for SIGHUP.\n",
      "[29/Oct/2019:18:58:24] ENGINE Listening for SIGUSR1.\n",
      "[29/Oct/2019:18:58:24] ENGINE Bus STARTING\n",
      "CherryPy Checker:\n",
      "The Application mounted at '' has an empty config.\n",
      "\n",
      "[29/Oct/2019:18:58:24] ENGINE Started monitor thread 'Autoreloader'.\n",
      "[29/Oct/2019:18:58:25] ENGINE Serving on http://127.0.0.1:8080\n",
      "[29/Oct/2019:18:58:25] ENGINE Bus STARTED\n",
      "127.0.0.1 - - [29/Oct/2019:18:58:26] \"GET /?code=20ce4ad6001de3eeba2b90e30f5f131ce5617961&state=6x47ZbnnHeUJw7rDeD62G84fYPh4HN HTTP/1.1\" 200 122 \"\" \"Mozilla/5.0 (Macintosh; Intel Mac OS X 10_15_0) AppleWebKit/537.36 (KHTML, like Gecko) Chrome/77.0.3865.120 Safari/537.36\"\n",
      "[29/Oct/2019:18:58:27] ENGINE Bus STOPPING\n",
      "[29/Oct/2019:18:58:27] ENGINE HTTP Server cherrypy._cpwsgi_server.CPWSGIServer(('127.0.0.1', 8080)) shut down\n",
      "[29/Oct/2019:18:58:27] ENGINE Stopped thread 'Autoreloader'.\n",
      "[29/Oct/2019:18:58:27] ENGINE Bus STOPPED\n",
      "[29/Oct/2019:18:58:27] ENGINE Bus EXITING\n",
      "[29/Oct/2019:18:58:27] ENGINE Bus EXITED\n",
      "[29/Oct/2019:18:58:27] ENGINE Waiting for child threads to terminate...\n",
      "You are authorized to access data for the user: Hasan Nagib\n",
      "TOKEN\n",
      "=====\n",
      "\n",
      "Saving access token in ../data/access_token.txt\n",
      "expires_in = 28800\n",
      "Saving refresh token in ../data/refresh_token.txt\n",
      "scope = ['sleep', 'social', 'weight', 'activity', 'settings', 'heartrate', 'nutrition', 'profile', 'location']\n",
      "token_type = Bearer\n",
      "user_id = 6V6CYV\n",
      "expires_at = 1572418706.787594\n"
     ]
    }
   ],
   "source": [
    "!/Users/hasannagib/opt/anaconda3/envs/fitbit/bin/python ../src/generate_tokens.py $client_id $client_secret"
   ]
  },
  {
   "cell_type": "markdown",
   "metadata": {},
   "source": [
    "## Read tokens"
   ]
  },
  {
   "cell_type": "code",
   "execution_count": 15,
   "metadata": {},
   "outputs": [],
   "source": [
    "with open('../data/access_token.txt','r') as f:\n",
    "    os.environ['fitbit_access_token'] = f.read()\n",
    "\n",
    "with open('../data/refresh_token.txt','r') as f:\n",
    "    os.environ['fitbit_refresh_token'] = f.read()"
   ]
  },
  {
   "cell_type": "markdown",
   "metadata": {},
   "source": [
    "## Login to Fitbit"
   ]
  },
  {
   "cell_type": "code",
   "execution_count": 16,
   "metadata": {},
   "outputs": [],
   "source": [
    "auth_client = fitbit.Fitbit(\n",
    "    os.environ['client_id'], \n",
    "    os.environ['client_secret'],\n",
    "    os.environ['fitbit_access_token'],\n",
    "    os.environ['fitbit_refresh_token']\n",
    ")"
   ]
  },
  {
   "cell_type": "markdown",
   "metadata": {},
   "source": [
    "## Query & Plot Sleep Data"
   ]
  },
  {
   "cell_type": "code",
   "execution_count": 17,
   "metadata": {},
   "outputs": [],
   "source": [
    "sleep = auth_client.sleep()['summary']['stages']"
   ]
  },
  {
   "cell_type": "code",
   "execution_count": 18,
   "metadata": {},
   "outputs": [
    {
     "data": {
      "text/html": [
       "\n",
       "<div class=\"bk-root\">\n",
       "    <div class=\"bk-plotdiv\" id=\"a75cfbdc-879d-422c-b57b-e8fbca78ea0c\"></div>\n",
       "</div>"
      ]
     },
     "metadata": {},
     "output_type": "display_data"
    },
    {
     "data": {
      "application/javascript": [
       "(function(root) {\n",
       "  function embed_document(root) {\n",
       "    \n",
       "  var docs_json = {\"7a3bbf27-4a82-46db-b252-05a9561b0447\":{\"roots\":{\"references\":[{\"attributes\":{\"bottom_units\":\"screen\",\"fill_alpha\":{\"value\":0.5},\"fill_color\":{\"value\":\"lightgrey\"},\"left_units\":\"screen\",\"level\":\"overlay\",\"line_alpha\":{\"value\":1.0},\"line_color\":{\"value\":\"black\"},\"line_dash\":[4,4],\"line_width\":{\"value\":2},\"plot\":null,\"render_mode\":\"css\",\"right_units\":\"screen\",\"top_units\":\"screen\"},\"id\":\"4616f526-3ef3-44cd-aa37-0c739cd66d30\",\"type\":\"BoxAnnotation\"},{\"attributes\":{\"active_drag\":\"auto\",\"active_inspect\":\"auto\",\"active_scroll\":\"auto\",\"active_tap\":\"auto\",\"tools\":[{\"id\":\"4b1ae444-2997-475e-9b69-18a87aa22d30\",\"type\":\"PanTool\"},{\"id\":\"92d47ebd-5306-4f6c-b6bf-2b20e22d614f\",\"type\":\"WheelZoomTool\"},{\"id\":\"62911edf-6132-4da1-81b3-8fe980cd8747\",\"type\":\"BoxZoomTool\"},{\"id\":\"90a364fe-ab22-42bb-8743-a1d5ee915532\",\"type\":\"SaveTool\"},{\"id\":\"946582a3-864b-41b6-85da-2e8ab4faa232\",\"type\":\"ResetTool\"},{\"id\":\"5ef6781f-edb6-4ebe-9398-1f578029d52a\",\"type\":\"HelpTool\"},{\"id\":\"a1c4068b-283b-41d8-bf1a-ac469ca5c9f8\",\"type\":\"HoverTool\"}]},\"id\":\"c3bee677-f908-4c1f-8008-1a9761fb8a23\",\"type\":\"Toolbar\"},{\"attributes\":{},\"id\":\"946582a3-864b-41b6-85da-2e8ab4faa232\",\"type\":\"ResetTool\"},{\"attributes\":{},\"id\":\"90a364fe-ab22-42bb-8743-a1d5ee915532\",\"type\":\"SaveTool\"},{\"attributes\":{},\"id\":\"47b64c9e-25dc-435d-bd41-f7e7710ba18a\",\"type\":\"CategoricalTickFormatter\"},{\"attributes\":{\"callback\":null,\"renderers\":\"auto\",\"tooltips\":[[\"Stage\",\"@stages\"],[\"Duration\",\"@hhmm\"]]},\"id\":\"a1c4068b-283b-41d8-bf1a-ac469ca5c9f8\",\"type\":\"HoverTool\"},{\"attributes\":{\"formatter\":{\"id\":\"c20fa171-8e57-48bf-997f-8aeba54bb3c7\",\"type\":\"BasicTickFormatter\"},\"plot\":{\"id\":\"598c89a5-fef8-4a87-8ac4-497d768b84a8\",\"subtype\":\"Figure\",\"type\":\"Plot\"},\"ticker\":{\"id\":\"f725deb5-e3f0-4bf9-9fda-38a913c2cfba\",\"type\":\"BasicTicker\"}},\"id\":\"fb1d2596-8f3f-47ae-94ff-a6fb5bb69727\",\"type\":\"LinearAxis\"},{\"attributes\":{\"items\":[{\"id\":\"59b5a766-7c33-4a4e-9e2c-518f0f765e09\",\"type\":\"LegendItem\"}],\"orientation\":\"horizontal\",\"plot\":{\"id\":\"598c89a5-fef8-4a87-8ac4-497d768b84a8\",\"subtype\":\"Figure\",\"type\":\"Plot\"}},\"id\":\"7baf293b-58f2-41bc-9f54-33ffbff6d241\",\"type\":\"Legend\"},{\"attributes\":{\"callback\":null,\"factors\":[\"deep\",\"light\",\"rem\",\"wake\"]},\"id\":\"d41c102b-d343-44cc-a37c-8959830532b2\",\"type\":\"FactorRange\"},{\"attributes\":{\"dimension\":1,\"plot\":{\"id\":\"598c89a5-fef8-4a87-8ac4-497d768b84a8\",\"subtype\":\"Figure\",\"type\":\"Plot\"},\"ticker\":{\"id\":\"f725deb5-e3f0-4bf9-9fda-38a913c2cfba\",\"type\":\"BasicTicker\"}},\"id\":\"92d61fd5-5d85-4903-873a-424946fde72e\",\"type\":\"Grid\"},{\"attributes\":{\"callback\":null,\"data\":{\"hhmm\":[\"0:01:17\",\"0:04:33\",\"0:01:24\",\"0:01:25\"],\"hours\":[77,273,84,85],\"stages\":[\"deep\",\"light\",\"rem\",\"wake\"]},\"selected\":{\"id\":\"105b56fa-400d-4b63-b9e3-a72a6c890d45\",\"type\":\"Selection\"},\"selection_policy\":{\"id\":\"46a12309-b1ae-4bb8-9b73-750d493592cb\",\"type\":\"UnionRenderers\"}},\"id\":\"12e1524e-ca1e-4ddb-8fcf-7bbe69c0dd92\",\"type\":\"ColumnDataSource\"},{\"attributes\":{},\"id\":\"46a12309-b1ae-4bb8-9b73-750d493592cb\",\"type\":\"UnionRenderers\"},{\"attributes\":{},\"id\":\"38ffe658-678f-4792-b2cc-f7ea5f67add5\",\"type\":\"CategoricalScale\"},{\"attributes\":{\"plot\":null,\"text\":\"Fitbit Sleep Data\"},\"id\":\"b76712af-82ce-4075-a5a5-b4d7debe6916\",\"type\":\"Title\"},{\"attributes\":{\"data_source\":{\"id\":\"12e1524e-ca1e-4ddb-8fcf-7bbe69c0dd92\",\"type\":\"ColumnDataSource\"},\"glyph\":{\"id\":\"2b4f5921-a33b-4a3d-8304-3c215d9cb457\",\"type\":\"VBar\"},\"hover_glyph\":null,\"muted_glyph\":null,\"nonselection_glyph\":{\"id\":\"0a7f1078-f406-4403-b915-efadb06dba34\",\"type\":\"VBar\"},\"selection_glyph\":null,\"view\":{\"id\":\"f5732727-8b0b-49a6-b790-fcaea12708e2\",\"type\":\"CDSView\"}},\"id\":\"a8140656-790a-41b9-8777-9532f967c720\",\"type\":\"GlyphRenderer\"},{\"attributes\":{},\"id\":\"491eaa28-928b-48cf-970a-c2cc2a283218\",\"type\":\"LinearScale\"},{\"attributes\":{\"formatter\":{\"id\":\"47b64c9e-25dc-435d-bd41-f7e7710ba18a\",\"type\":\"CategoricalTickFormatter\"},\"plot\":{\"id\":\"598c89a5-fef8-4a87-8ac4-497d768b84a8\",\"subtype\":\"Figure\",\"type\":\"Plot\"},\"ticker\":{\"id\":\"7ea64d6e-4d3b-45ee-a95b-8e2c6349c1cd\",\"type\":\"CategoricalTicker\"}},\"id\":\"85b78bbf-2560-405f-baa0-4a074b11ecb4\",\"type\":\"CategoricalAxis\"},{\"attributes\":{},\"id\":\"c20fa171-8e57-48bf-997f-8aeba54bb3c7\",\"type\":\"BasicTickFormatter\"},{\"attributes\":{\"grid_line_color\":{\"value\":null},\"plot\":{\"id\":\"598c89a5-fef8-4a87-8ac4-497d768b84a8\",\"subtype\":\"Figure\",\"type\":\"Plot\"},\"ticker\":{\"id\":\"7ea64d6e-4d3b-45ee-a95b-8e2c6349c1cd\",\"type\":\"CategoricalTicker\"}},\"id\":\"2ad28edc-6ca9-4d1f-a96a-87f12e721b09\",\"type\":\"Grid\"},{\"attributes\":{},\"id\":\"7ea64d6e-4d3b-45ee-a95b-8e2c6349c1cd\",\"type\":\"CategoricalTicker\"},{\"attributes\":{\"callback\":null},\"id\":\"e1946cdb-5023-4499-a6d3-b094318e5885\",\"type\":\"DataRange1d\"},{\"attributes\":{\"fill_color\":{\"field\":\"stages\",\"transform\":{\"id\":\"78320d66-aa30-4781-a604-c71680342085\",\"type\":\"CategoricalColorMapper\"}},\"line_color\":{\"value\":\"white\"},\"top\":{\"field\":\"hours\"},\"width\":{\"value\":0.9},\"x\":{\"field\":\"stages\"}},\"id\":\"2b4f5921-a33b-4a3d-8304-3c215d9cb457\",\"type\":\"VBar\"},{\"attributes\":{},\"id\":\"f725deb5-e3f0-4bf9-9fda-38a913c2cfba\",\"type\":\"BasicTicker\"},{\"attributes\":{\"label\":{\"field\":\"stages\"},\"renderers\":[{\"id\":\"a8140656-790a-41b9-8777-9532f967c720\",\"type\":\"GlyphRenderer\"}]},\"id\":\"59b5a766-7c33-4a4e-9e2c-518f0f765e09\",\"type\":\"LegendItem\"},{\"attributes\":{\"factors\":[\"deep\",\"light\",\"rem\",\"wake\"],\"palette\":[\"#154ba6\",\"#3f8dff\",\"#7ec4ff\",\"#e73360\"]},\"id\":\"78320d66-aa30-4781-a604-c71680342085\",\"type\":\"CategoricalColorMapper\"},{\"attributes\":{\"below\":[{\"id\":\"85b78bbf-2560-405f-baa0-4a074b11ecb4\",\"type\":\"CategoricalAxis\"}],\"left\":[{\"id\":\"fb1d2596-8f3f-47ae-94ff-a6fb5bb69727\",\"type\":\"LinearAxis\"}],\"plot_height\":250,\"renderers\":[{\"id\":\"85b78bbf-2560-405f-baa0-4a074b11ecb4\",\"type\":\"CategoricalAxis\"},{\"id\":\"2ad28edc-6ca9-4d1f-a96a-87f12e721b09\",\"type\":\"Grid\"},{\"id\":\"fb1d2596-8f3f-47ae-94ff-a6fb5bb69727\",\"type\":\"LinearAxis\"},{\"id\":\"92d61fd5-5d85-4903-873a-424946fde72e\",\"type\":\"Grid\"},{\"id\":\"4616f526-3ef3-44cd-aa37-0c739cd66d30\",\"type\":\"BoxAnnotation\"},{\"id\":\"7baf293b-58f2-41bc-9f54-33ffbff6d241\",\"type\":\"Legend\"},{\"id\":\"a8140656-790a-41b9-8777-9532f967c720\",\"type\":\"GlyphRenderer\"}],\"title\":{\"id\":\"b76712af-82ce-4075-a5a5-b4d7debe6916\",\"type\":\"Title\"},\"toolbar\":{\"id\":\"c3bee677-f908-4c1f-8008-1a9761fb8a23\",\"type\":\"Toolbar\"},\"x_range\":{\"id\":\"d41c102b-d343-44cc-a37c-8959830532b2\",\"type\":\"FactorRange\"},\"x_scale\":{\"id\":\"38ffe658-678f-4792-b2cc-f7ea5f67add5\",\"type\":\"CategoricalScale\"},\"y_range\":{\"id\":\"e1946cdb-5023-4499-a6d3-b094318e5885\",\"type\":\"DataRange1d\"},\"y_scale\":{\"id\":\"491eaa28-928b-48cf-970a-c2cc2a283218\",\"type\":\"LinearScale\"}},\"id\":\"598c89a5-fef8-4a87-8ac4-497d768b84a8\",\"subtype\":\"Figure\",\"type\":\"Plot\"},{\"attributes\":{},\"id\":\"4b1ae444-2997-475e-9b69-18a87aa22d30\",\"type\":\"PanTool\"},{\"attributes\":{},\"id\":\"105b56fa-400d-4b63-b9e3-a72a6c890d45\",\"type\":\"Selection\"},{\"attributes\":{},\"id\":\"92d47ebd-5306-4f6c-b6bf-2b20e22d614f\",\"type\":\"WheelZoomTool\"},{\"attributes\":{},\"id\":\"5ef6781f-edb6-4ebe-9398-1f578029d52a\",\"type\":\"HelpTool\"},{\"attributes\":{\"source\":{\"id\":\"12e1524e-ca1e-4ddb-8fcf-7bbe69c0dd92\",\"type\":\"ColumnDataSource\"}},\"id\":\"f5732727-8b0b-49a6-b790-fcaea12708e2\",\"type\":\"CDSView\"},{\"attributes\":{\"fill_alpha\":{\"value\":0.1},\"fill_color\":{\"value\":\"#1f77b4\"},\"line_alpha\":{\"value\":0.1},\"line_color\":{\"value\":\"#1f77b4\"},\"top\":{\"field\":\"hours\"},\"width\":{\"value\":0.9},\"x\":{\"field\":\"stages\"}},\"id\":\"0a7f1078-f406-4403-b915-efadb06dba34\",\"type\":\"VBar\"},{\"attributes\":{\"overlay\":{\"id\":\"4616f526-3ef3-44cd-aa37-0c739cd66d30\",\"type\":\"BoxAnnotation\"}},\"id\":\"62911edf-6132-4da1-81b3-8fe980cd8747\",\"type\":\"BoxZoomTool\"}],\"root_ids\":[\"598c89a5-fef8-4a87-8ac4-497d768b84a8\"]},\"title\":\"Bokeh Application\",\"version\":\"0.12.16\"}};\n",
       "  var render_items = [{\"docid\":\"7a3bbf27-4a82-46db-b252-05a9561b0447\",\"elementid\":\"a75cfbdc-879d-422c-b57b-e8fbca78ea0c\",\"modelid\":\"598c89a5-fef8-4a87-8ac4-497d768b84a8\"}];\n",
       "  root.Bokeh.embed.embed_items_notebook(docs_json, render_items);\n",
       "\n",
       "  }\n",
       "  if (root.Bokeh !== undefined) {\n",
       "    embed_document(root);\n",
       "  } else {\n",
       "    var attempts = 0;\n",
       "    var timer = setInterval(function(root) {\n",
       "      if (root.Bokeh !== undefined) {\n",
       "        embed_document(root);\n",
       "        clearInterval(timer);\n",
       "      }\n",
       "      attempts++;\n",
       "      if (attempts > 100) {\n",
       "        console.log(\"Bokeh: ERROR: Unable to run BokehJS code because BokehJS library is missing\")\n",
       "        clearInterval(timer);\n",
       "      }\n",
       "    }, 10, root)\n",
       "  }\n",
       "})(window);"
      ],
      "application/vnd.bokehjs_exec.v0+json": ""
     },
     "metadata": {
      "application/vnd.bokehjs_exec.v0+json": {
       "id": "598c89a5-fef8-4a87-8ac4-497d768b84a8"
      }
     },
     "output_type": "display_data"
    }
   ],
   "source": [
    "plotutils.sleep_summary_plot(sleep)"
   ]
  },
  {
   "cell_type": "code",
   "execution_count": null,
   "metadata": {},
   "outputs": [],
   "source": []
  }
 ],
 "metadata": {
  "kernelspec": {
   "display_name": "fitbit",
   "language": "python",
   "name": "fitbit"
  },
  "language_info": {
   "codemirror_mode": {
    "name": "ipython",
    "version": 3
   },
   "file_extension": ".py",
   "mimetype": "text/x-python",
   "name": "python",
   "nbconvert_exporter": "python",
   "pygments_lexer": "ipython3",
   "version": "3.7.4"
  }
 },
 "nbformat": 4,
 "nbformat_minor": 2
}
